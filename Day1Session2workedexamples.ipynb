{
  "nbformat": 4,
  "nbformat_minor": 0,
  "metadata": {
    "colab": {
      "name": "Day1Session2workedexamples.ipynb",
      "provenance": [],
      "authorship_tag": "ABX9TyOm90sNNK75Vvqhum8d2rzT",
      "include_colab_link": true
    },
    "kernelspec": {
      "name": "python3",
      "display_name": "Python 3"
    }
  },
  "cells": [
    {
      "cell_type": "markdown",
      "metadata": {
        "id": "view-in-github",
        "colab_type": "text"
      },
      "source": [
        "<a href=\"https://colab.research.google.com/github/Pooja-mhaske354/Applications-Of-Python-Programming-in-DL-and-ML/blob/master/Day1Session2workedexamples.ipynb\" target=\"_parent\"><img src=\"https://colab.research.google.com/assets/colab-badge.svg\" alt=\"Open In Colab\"/></a>"
      ]
    },
    {
      "cell_type": "markdown",
      "metadata": {
        "id": "H_me60hWSHwI",
        "colab_type": "text"
      },
      "source": [
        "1.Python Program to find the factorial of a number using loop."
      ]
    },
    {
      "cell_type": "code",
      "metadata": {
        "id": "3T9lwvi9SIsD",
        "colab_type": "code",
        "colab": {
          "base_uri": "https://localhost:8080/",
          "height": 68
        },
        "outputId": "52199ba8-da79-40e8-c0be-a20047c917d1"
      },
      "source": [
        "n=int(input(\"Enter number:\"))\n",
        "fact=1\n",
        "\n",
        "while(n>0):\n",
        "    fact=fact*n\n",
        "    n=n-1\n",
        "print(\"Factorial of the number is: \")\n",
        "print(fact)"
      ],
      "execution_count": 1,
      "outputs": [
        {
          "output_type": "stream",
          "text": [
            "Enter number:4\n",
            "Factorial of the number is: \n",
            "24\n"
          ],
          "name": "stdout"
        }
      ]
    },
    {
      "cell_type": "markdown",
      "metadata": {
        "id": "J4gOdwnIUC9B",
        "colab_type": "text"
      },
      "source": [
        "2.Python Program to reverse a number using loop"
      ]
    },
    {
      "cell_type": "code",
      "metadata": {
        "id": "CYkxmXiXSPb4",
        "colab_type": "code",
        "colab": {
          "base_uri": "https://localhost:8080/",
          "height": 68
        },
        "outputId": "91c69ffe-8c90-45ab-9d1a-b971903b2a3a"
      },
      "source": [
        "r=0\n",
        "n=int(input(\"Enter a number: \"))\n",
        "while(n>0):\n",
        "    dig=n%10\n",
        "    r=r*10+dig\n",
        "    n=n//10\n",
        "print(\"The reversed no  is:\")\n",
        "print(r)"
      ],
      "execution_count": 2,
      "outputs": [
        {
          "output_type": "stream",
          "text": [
            "Enter a number: 123\n",
            "The reversed no  is:\n",
            "321\n"
          ],
          "name": "stdout"
        }
      ]
    },
    {
      "cell_type": "markdown",
      "metadata": {
        "id": "1PcNISNTUPXq",
        "colab_type": "text"
      },
      "source": [
        "3.Write a Python program to construct the following pattern, using a nested for loop."
      ]
    },
    {
      "cell_type": "code",
      "metadata": {
        "id": "03_biuizUHpb",
        "colab_type": "code",
        "colab": {
          "base_uri": "https://localhost:8080/",
          "height": 187
        },
        "outputId": "239c25c3-b7d8-41da-f95b-a5557ad20306"
      },
      "source": [
        "n=5\n",
        "for i in range(n):\n",
        "    for j in range(i):\n",
        "        print ('* ', end=\"\")\n",
        "    print('')\n",
        "\n",
        "for i in range(n,0,-1):\n",
        "    for j in range(i):\n",
        "        print('* ', end=\"\")\n",
        "    print('')"
      ],
      "execution_count": 3,
      "outputs": [
        {
          "output_type": "stream",
          "text": [
            "\n",
            "* \n",
            "* * \n",
            "* * * \n",
            "* * * * \n",
            "* * * * * \n",
            "* * * * \n",
            "* * * \n",
            "* * \n",
            "* \n"
          ],
          "name": "stdout"
        }
      ]
    },
    {
      "cell_type": "markdown",
      "metadata": {
        "id": "RNofT9PfUYyh",
        "colab_type": "text"
      },
      "source": [
        "4.Python Program to replace all occurrences of ‘a’ with ‘$’ in a string."
      ]
    },
    {
      "cell_type": "code",
      "metadata": {
        "id": "NaFUe04lUZsK",
        "colab_type": "code",
        "colab": {
          "base_uri": "https://localhost:8080/",
          "height": 68
        },
        "outputId": "cce84f3e-5242-474c-c6f1-e5f4507da7c1"
      },
      "source": [
        "string=input(\"Enter string:\")\n",
        "string=string.replace('a','$')\n",
        "string=string.replace('A','$')\n",
        "print(\"Modified string:\")\n",
        "print(string)"
      ],
      "execution_count": 4,
      "outputs": [
        {
          "output_type": "stream",
          "text": [
            "Enter string:iam studing in alvas\n",
            "Modified string:\n",
            "i$m studing in $lv$s\n"
          ],
          "name": "stdout"
        }
      ]
    },
    {
      "cell_type": "markdown",
      "metadata": {
        "id": "ePkI1eCjUoIA",
        "colab_type": "text"
      },
      "source": [
        "5.Python Program to remove the nth index character from a non-empty string."
      ]
    },
    {
      "cell_type": "code",
      "metadata": {
        "id": "Yoi2gLtMUdJQ",
        "colab_type": "code",
        "colab": {
          "base_uri": "https://localhost:8080/",
          "height": 85
        },
        "outputId": "c461fbce-fd84-4f33-9a2c-e9d0d4c95087"
      },
      "source": [
        "def remove(string, n):  \n",
        "      first = string[:n]   \n",
        "      last = string[n+1:]  \n",
        "      return first + last\n",
        "string=input(\"Enter the sring:\")\n",
        "n=int(input(\"Enter the index of the character to remove:\"))\n",
        "print(\"Modified string:\")\n",
        "print(remove(string, n))\n"
      ],
      "execution_count": 5,
      "outputs": [
        {
          "output_type": "stream",
          "text": [
            "Enter the sring:we are indians\n",
            "Enter the index of the character to remove:4\n",
            "Modified string:\n",
            "we ae indians\n"
          ],
          "name": "stdout"
        }
      ]
    },
    {
      "cell_type": "markdown",
      "metadata": {
        "id": "68yehABeU4fh",
        "colab_type": "text"
      },
      "source": [
        "6.Python Program to detect if two strings are anagrams."
      ]
    },
    {
      "cell_type": "code",
      "metadata": {
        "id": "IB59QUTUUuVi",
        "colab_type": "code",
        "colab": {
          "base_uri": "https://localhost:8080/",
          "height": 68
        },
        "outputId": "926bf835-e590-4a2d-c0a1-21e1cc8a1a89"
      },
      "source": [
        "s1=input(\"Enter first string:\")\n",
        "s2=input(\"Enter second string:\")\n",
        "if(sorted(s1)==sorted(s2)):\n",
        "      print(\"The strings are anagrams.\")\n",
        "else:\n",
        "      print(\"The strings aren't anagrams.\")"
      ],
      "execution_count": 6,
      "outputs": [
        {
          "output_type": "stream",
          "text": [
            "Enter first string:i am a student\n",
            "Enter second string:am i a student\n",
            "The strings are anagrams.\n"
          ],
          "name": "stdout"
        }
      ]
    },
    {
      "cell_type": "markdown",
      "metadata": {
        "id": "58b_eCGcVIoz",
        "colab_type": "text"
      },
      "source": [
        "7.Python Program to form a string where the first character and the last character have been exchanged."
      ]
    },
    {
      "cell_type": "code",
      "metadata": {
        "id": "eUhwTlYkU8gT",
        "colab_type": "code",
        "colab": {
          "base_uri": "https://localhost:8080/",
          "height": 68
        },
        "outputId": "d66afd77-c27c-46eb-eacb-9a8dc23b3353"
      },
      "source": [
        "def change(string):\n",
        "      return string[-1:] + string[1:-1] + string[:1]\n",
        "string=input(\"Enter string:\")\n",
        "print(\"Modified string:\")\n",
        "print(change(string))"
      ],
      "execution_count": 7,
      "outputs": [
        {
          "output_type": "stream",
          "text": [
            "Enter string:alvas\n",
            "Modified string:\n",
            "slvaa\n"
          ],
          "name": "stdout"
        }
      ]
    },
    {
      "cell_type": "markdown",
      "metadata": {
        "id": "qsHdEpvWVnlE",
        "colab_type": "text"
      },
      "source": [
        "8.Python Program to count number of vowels from a non-empty string."
      ]
    },
    {
      "cell_type": "code",
      "metadata": {
        "id": "M4dlH0jRVMXS",
        "colab_type": "code",
        "colab": {
          "base_uri": "https://localhost:8080/",
          "height": 68
        },
        "outputId": "e46346be-542e-4764-8882-ba1af885c1d1"
      },
      "source": [
        "string=input(\"Enter string:\")\n",
        "vowels=0\n",
        "for i in string:\n",
        "      if(i=='a' or i=='e' or i=='i' or i=='o' or i=='u' or i=='A' or i=='E' or i=='I' or i=='O' or i=='U'):\n",
        "            vowels=vowels+1\n",
        "print(\"Number of vowels are:\")\n",
        "print(vowels)"
      ],
      "execution_count": 8,
      "outputs": [
        {
          "output_type": "stream",
          "text": [
            "Enter string:POOJA\n",
            "Number of vowels are:\n",
            "3\n"
          ],
          "name": "stdout"
        }
      ]
    },
    {
      "cell_type": "markdown",
      "metadata": {
        "id": "WhfK8DwJVxS3",
        "colab_type": "text"
      },
      "source": [
        "9.Program for Divide by zero error detection"
      ]
    },
    {
      "cell_type": "code",
      "metadata": {
        "id": "CehPeGr0Vrln",
        "colab_type": "code",
        "colab": {
          "base_uri": "https://localhost:8080/",
          "height": 238
        },
        "outputId": "3dd39142-0841-461f-e848-9e3b9057361c"
      },
      "source": [
        "flag = True\n",
        "\n",
        "def div(a, b):  \n",
        "       try:\n",
        "            print(\"Finally the division of %d/%d is %f\" % (a, b,a/b))\n",
        "            global flag\n",
        "            flag=False\n",
        "       except ZeroDivisionError:\n",
        "            print(\"Zero Division Error detected\")\n",
        "       else:\n",
        "            print(\"Division is successful\") \n",
        "       finally:\n",
        "            if flag is True:\n",
        "               print(\"Try again\")     \n",
        "            else:\n",
        "               print(\"Thank you\")\n",
        "       \n",
        "#global flag\n",
        "\n",
        "while flag is True:\n",
        "    div(int(input(\"Enter numerator\")),int(input(\"Enter denominator\")))"
      ],
      "execution_count": 9,
      "outputs": [
        {
          "output_type": "stream",
          "text": [
            "Enter numerator6\n",
            "Enter denominator0\n",
            "Zero Division Error detected\n",
            "Try again\n",
            "Enter numerator7\n",
            "Enter denominator0\n",
            "Zero Division Error detected\n",
            "Try again\n",
            "Enter numerator5\n",
            "Enter denominator6\n",
            "Finally the division of 5/6 is 0.833333\n",
            "Division is successful\n",
            "Thank you\n"
          ],
          "name": "stdout"
        }
      ]
    },
    {
      "cell_type": "markdown",
      "metadata": {
        "id": "SNxbxTfGWRgC",
        "colab_type": "text"
      },
      "source": [
        "10.Program for ValueError error detection"
      ]
    },
    {
      "cell_type": "code",
      "metadata": {
        "id": "u4s3jpnxV4VR",
        "colab_type": "code",
        "colab": {
          "base_uri": "https://localhost:8080/",
          "height": 85
        },
        "outputId": "d4c6a9c0-8b3c-4ef1-f418-cce9f2a65100"
      },
      "source": [
        "while True:\n",
        "     try:\n",
        "         x = int(input(\"Please enter a number: \"))\n",
        "         print(\" That was valid number. Thank you\")\n",
        "         break\n",
        "     except ValueError:\n",
        "         print(\"Oops!  That was no valid number.  Try again...\")"
      ],
      "execution_count": 10,
      "outputs": [
        {
          "output_type": "stream",
          "text": [
            "Please enter a number: 1.1\n",
            "Oops!  That was no valid number.  Try again...\n",
            "Please enter a number: 2\n",
            " That was valid number. Thank you\n"
          ],
          "name": "stdout"
        }
      ]
    },
    {
      "cell_type": "code",
      "metadata": {
        "id": "OhLUkV0YWVR7",
        "colab_type": "code",
        "colab": {}
      },
      "source": [
        ""
      ],
      "execution_count": 0,
      "outputs": []
    }
  ]
}